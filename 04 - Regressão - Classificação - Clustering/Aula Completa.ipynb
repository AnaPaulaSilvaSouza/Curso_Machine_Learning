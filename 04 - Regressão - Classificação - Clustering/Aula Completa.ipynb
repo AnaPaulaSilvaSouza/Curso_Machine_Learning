{
 "cells": [
  {
   "cell_type": "markdown",
   "id": "aa34b6d2",
   "metadata": {},
   "source": [
    "## Machine Learning \n",
    "- aprendizagem de maquina\n",
    "- ele treina\n",
    "\n",
    "## Tipo de Aprendizado\n",
    "- Aprendizado supervisionado --- ue consiste em eu já obter os resultados, porque tecnicamente dentro do machine learning vamos chamar esses resultados que já temos de target, ou alvo em português. (email spam ou não)\n",
    "- Aprendizado não supervisonado --- E o não supervisionado não tenho esse resultado na mão, ele sozinho, com autonomia vai decidir como vai de repente, por exemplo, fazer agrupamentos dos dados de forma autônoma e depois vou verificar se aquele agrupamento fez sentido para mim ou não. (categorizar os agrupamentos de cachorro, clientes)\n",
    "\n",
    "\n",
    "Machine learning, que é uma linguagem já amplamente utilizada no mundo da ciência de dados, e vamos usar uma biblioteca chamada scikit learn.\n",
    "Essa biblioteca é super poderosa para trabalhar com esses algoritmos, porque ela vai poupar todo esse trabalho, não vamos ter que ficar colocando função por função, ou descrevendo cada parte matemática, ela já tem tudo isso dentro dela."
   ]
  },
  {
   "cell_type": "markdown",
   "id": "c7dd4085",
   "metadata": {},
   "source": [
    "### Importando a Biblioteca"
   ]
  },
  {
   "cell_type": "code",
   "execution_count": 1,
   "id": "1e6be063",
   "metadata": {},
   "outputs": [],
   "source": [
    "import sklearn"
   ]
  },
  {
   "cell_type": "markdown",
   "id": "60454c47",
   "metadata": {},
   "source": [
    "### Importando as bases de dados"
   ]
  },
  {
   "cell_type": "code",
   "execution_count": 2,
   "id": "5d67cdbe",
   "metadata": {},
   "outputs": [
    {
     "data": {
      "text/plain": [
       "<function sklearn.datasets._base.load_iris(*, return_X_y=False, as_frame=False)>"
      ]
     },
     "execution_count": 2,
     "metadata": {},
     "output_type": "execute_result"
    }
   ],
   "source": [
    "from sklearn import datasets #Carregue e retorne o conjunto de dados da íris (classificação). O conjunto de dados da íris é um conjunto de dados de classificação multiclasse clássico e muito fácil.\n",
    "\n",
    "iris = datasets.load_iris\n",
    "iris"
   ]
  },
  {
   "cell_type": "code",
   "execution_count": 3,
   "id": "f5239e89",
   "metadata": {},
   "outputs": [
    {
     "data": {
      "text/html": [
       "<div>\n",
       "<style scoped>\n",
       "    .dataframe tbody tr th:only-of-type {\n",
       "        vertical-align: middle;\n",
       "    }\n",
       "\n",
       "    .dataframe tbody tr th {\n",
       "        vertical-align: top;\n",
       "    }\n",
       "\n",
       "    .dataframe thead th {\n",
       "        text-align: right;\n",
       "    }\n",
       "</style>\n",
       "<table border=\"1\" class=\"dataframe\">\n",
       "  <thead>\n",
       "    <tr style=\"text-align: right;\">\n",
       "      <th></th>\n",
       "      <th>quantidade_gravidez</th>\n",
       "      <th>concentracao_glicose</th>\n",
       "      <th>pressao</th>\n",
       "      <th>espessura_triceps</th>\n",
       "      <th>insulina</th>\n",
       "      <th>imc</th>\n",
       "      <th>diabetes_pedigree</th>\n",
       "      <th>idade</th>\n",
       "      <th>resultado</th>\n",
       "    </tr>\n",
       "  </thead>\n",
       "  <tbody>\n",
       "    <tr>\n",
       "      <th>0</th>\n",
       "      <td>6</td>\n",
       "      <td>148</td>\n",
       "      <td>72</td>\n",
       "      <td>35</td>\n",
       "      <td>0</td>\n",
       "      <td>33.6</td>\n",
       "      <td>0.627</td>\n",
       "      <td>50</td>\n",
       "      <td>testado_positivo</td>\n",
       "    </tr>\n",
       "    <tr>\n",
       "      <th>1</th>\n",
       "      <td>1</td>\n",
       "      <td>85</td>\n",
       "      <td>66</td>\n",
       "      <td>29</td>\n",
       "      <td>0</td>\n",
       "      <td>26.6</td>\n",
       "      <td>0.351</td>\n",
       "      <td>31</td>\n",
       "      <td>testado_negativo</td>\n",
       "    </tr>\n",
       "    <tr>\n",
       "      <th>2</th>\n",
       "      <td>8</td>\n",
       "      <td>183</td>\n",
       "      <td>64</td>\n",
       "      <td>0</td>\n",
       "      <td>0</td>\n",
       "      <td>23.3</td>\n",
       "      <td>0.672</td>\n",
       "      <td>32</td>\n",
       "      <td>testado_positivo</td>\n",
       "    </tr>\n",
       "    <tr>\n",
       "      <th>3</th>\n",
       "      <td>1</td>\n",
       "      <td>89</td>\n",
       "      <td>66</td>\n",
       "      <td>23</td>\n",
       "      <td>94</td>\n",
       "      <td>28.1</td>\n",
       "      <td>0.167</td>\n",
       "      <td>21</td>\n",
       "      <td>testado_negativo</td>\n",
       "    </tr>\n",
       "    <tr>\n",
       "      <th>4</th>\n",
       "      <td>0</td>\n",
       "      <td>137</td>\n",
       "      <td>40</td>\n",
       "      <td>35</td>\n",
       "      <td>168</td>\n",
       "      <td>43.1</td>\n",
       "      <td>2.288</td>\n",
       "      <td>33</td>\n",
       "      <td>testado_positivo</td>\n",
       "    </tr>\n",
       "  </tbody>\n",
       "</table>\n",
       "</div>"
      ],
      "text/plain": [
       "   quantidade_gravidez  concentracao_glicose  pressao  espessura_triceps  \\\n",
       "0                    6                   148       72                 35   \n",
       "1                    1                    85       66                 29   \n",
       "2                    8                   183       64                  0   \n",
       "3                    1                    89       66                 23   \n",
       "4                    0                   137       40                 35   \n",
       "\n",
       "   insulina   imc  diabetes_pedigree  idade         resultado  \n",
       "0         0  33.6              0.627     50  testado_positivo  \n",
       "1         0  26.6              0.351     31  testado_negativo  \n",
       "2         0  23.3              0.672     32  testado_positivo  \n",
       "3        94  28.1              0.167     21  testado_negativo  \n",
       "4       168  43.1              2.288     33  testado_positivo  "
      ]
     },
     "execution_count": 3,
     "metadata": {},
     "output_type": "execute_result"
    }
   ],
   "source": [
    "import pandas as pd\n",
    "\n",
    "diabetes = pd.read_csv('https://gist.githubusercontent.com/davidneves11/944edb5ecb7bf6d1770eae91cb20d049/raw/50d3d054185815b0c49561f94badedc06ef3c313/diabetes.csv')\n",
    "diabetes.head()"
   ]
  },
  {
   "cell_type": "code",
   "execution_count": 4,
   "id": "46fe087e",
   "metadata": {},
   "outputs": [
    {
     "data": {
      "text/html": [
       "<div>\n",
       "<style scoped>\n",
       "    .dataframe tbody tr th:only-of-type {\n",
       "        vertical-align: middle;\n",
       "    }\n",
       "\n",
       "    .dataframe tbody tr th {\n",
       "        vertical-align: top;\n",
       "    }\n",
       "\n",
       "    .dataframe thead th {\n",
       "        text-align: right;\n",
       "    }\n",
       "</style>\n",
       "<table border=\"1\" class=\"dataframe\">\n",
       "  <thead>\n",
       "    <tr style=\"text-align: right;\">\n",
       "      <th></th>\n",
       "      <th>Idade</th>\n",
       "      <th>Peso</th>\n",
       "      <th>Horas de atividade</th>\n",
       "      <th>Batimentos cardiacos</th>\n",
       "    </tr>\n",
       "  </thead>\n",
       "  <tbody>\n",
       "    <tr>\n",
       "      <th>0</th>\n",
       "      <td>44.247295</td>\n",
       "      <td>53.591343</td>\n",
       "      <td>3.397836</td>\n",
       "      <td>82.307425</td>\n",
       "    </tr>\n",
       "    <tr>\n",
       "      <th>1</th>\n",
       "      <td>81.427930</td>\n",
       "      <td>172.569375</td>\n",
       "      <td>33.142344</td>\n",
       "      <td>179.045377</td>\n",
       "    </tr>\n",
       "    <tr>\n",
       "      <th>2</th>\n",
       "      <td>50.807130</td>\n",
       "      <td>74.582817</td>\n",
       "      <td>8.645704</td>\n",
       "      <td>103.522796</td>\n",
       "    </tr>\n",
       "    <tr>\n",
       "      <th>3</th>\n",
       "      <td>55.778712</td>\n",
       "      <td>90.491878</td>\n",
       "      <td>12.622969</td>\n",
       "      <td>114.239779</td>\n",
       "    </tr>\n",
       "    <tr>\n",
       "      <th>4</th>\n",
       "      <td>53.790400</td>\n",
       "      <td>84.129280</td>\n",
       "      <td>11.032320</td>\n",
       "      <td>107.184063</td>\n",
       "    </tr>\n",
       "  </tbody>\n",
       "</table>\n",
       "</div>"
      ],
      "text/plain": [
       "       Idade        Peso  Horas de atividade  Batimentos cardiacos\n",
       "0  44.247295   53.591343            3.397836             82.307425\n",
       "1  81.427930  172.569375           33.142344            179.045377\n",
       "2  50.807130   74.582817            8.645704            103.522796\n",
       "3  55.778712   90.491878           12.622969            114.239779\n",
       "4  53.790400   84.129280           11.032320            107.184063"
      ]
     },
     "execution_count": 4,
     "metadata": {},
     "output_type": "execute_result"
    }
   ],
   "source": [
    "batimentos = pd.read_csv('https://gist.githubusercontent.com/davidneves11/d72e7f49ab01c856acc5d07be4b1a9dd/raw/37631e3a40da92e6261c00fffdf0fb9b869b35dd/batimentos%2520cardiacos.csv', sep=',')\n",
    "batimentos.head()"
   ]
  },
  {
   "cell_type": "code",
   "execution_count": 5,
   "id": "166aeca4",
   "metadata": {},
   "outputs": [
    {
     "data": {
      "text/html": [
       "<div>\n",
       "<style scoped>\n",
       "    .dataframe tbody tr th:only-of-type {\n",
       "        vertical-align: middle;\n",
       "    }\n",
       "\n",
       "    .dataframe tbody tr th {\n",
       "        vertical-align: top;\n",
       "    }\n",
       "\n",
       "    .dataframe thead th {\n",
       "        text-align: right;\n",
       "    }\n",
       "</style>\n",
       "<table border=\"1\" class=\"dataframe\">\n",
       "  <thead>\n",
       "    <tr style=\"text-align: right;\">\n",
       "      <th></th>\n",
       "      <th>idade</th>\n",
       "      <th>genero</th>\n",
       "      <th>tipo_dor_peito</th>\n",
       "      <th>pressao_sanguinea_repouso</th>\n",
       "      <th>acucar_jejum</th>\n",
       "      <th>resultado_eletrocardio</th>\n",
       "      <th>freq_cardio_max</th>\n",
       "      <th>angina_exercicio</th>\n",
       "      <th>depressao_induzida_exercicio</th>\n",
       "      <th>inclinacao</th>\n",
       "      <th>num_princ_vasos</th>\n",
       "      <th>thal</th>\n",
       "      <th>diag_doenca_cardiaca</th>\n",
       "      <th>colesterol</th>\n",
       "    </tr>\n",
       "  </thead>\n",
       "  <tbody>\n",
       "    <tr>\n",
       "      <th>0</th>\n",
       "      <td>63</td>\n",
       "      <td>1</td>\n",
       "      <td>1</td>\n",
       "      <td>145</td>\n",
       "      <td>1</td>\n",
       "      <td>2</td>\n",
       "      <td>150</td>\n",
       "      <td>0</td>\n",
       "      <td>2.3</td>\n",
       "      <td>3</td>\n",
       "      <td>0</td>\n",
       "      <td>6</td>\n",
       "      <td>0</td>\n",
       "      <td>233</td>\n",
       "    </tr>\n",
       "    <tr>\n",
       "      <th>1</th>\n",
       "      <td>67</td>\n",
       "      <td>1</td>\n",
       "      <td>4</td>\n",
       "      <td>160</td>\n",
       "      <td>0</td>\n",
       "      <td>2</td>\n",
       "      <td>108</td>\n",
       "      <td>1</td>\n",
       "      <td>1.5</td>\n",
       "      <td>2</td>\n",
       "      <td>3</td>\n",
       "      <td>3</td>\n",
       "      <td>2</td>\n",
       "      <td>286</td>\n",
       "    </tr>\n",
       "    <tr>\n",
       "      <th>2</th>\n",
       "      <td>67</td>\n",
       "      <td>1</td>\n",
       "      <td>4</td>\n",
       "      <td>120</td>\n",
       "      <td>0</td>\n",
       "      <td>2</td>\n",
       "      <td>129</td>\n",
       "      <td>1</td>\n",
       "      <td>2.6</td>\n",
       "      <td>2</td>\n",
       "      <td>2</td>\n",
       "      <td>7</td>\n",
       "      <td>1</td>\n",
       "      <td>229</td>\n",
       "    </tr>\n",
       "    <tr>\n",
       "      <th>3</th>\n",
       "      <td>37</td>\n",
       "      <td>1</td>\n",
       "      <td>3</td>\n",
       "      <td>130</td>\n",
       "      <td>0</td>\n",
       "      <td>0</td>\n",
       "      <td>187</td>\n",
       "      <td>0</td>\n",
       "      <td>3.5</td>\n",
       "      <td>3</td>\n",
       "      <td>0</td>\n",
       "      <td>3</td>\n",
       "      <td>0</td>\n",
       "      <td>250</td>\n",
       "    </tr>\n",
       "    <tr>\n",
       "      <th>4</th>\n",
       "      <td>41</td>\n",
       "      <td>0</td>\n",
       "      <td>2</td>\n",
       "      <td>130</td>\n",
       "      <td>0</td>\n",
       "      <td>2</td>\n",
       "      <td>172</td>\n",
       "      <td>0</td>\n",
       "      <td>1.4</td>\n",
       "      <td>1</td>\n",
       "      <td>0</td>\n",
       "      <td>3</td>\n",
       "      <td>0</td>\n",
       "      <td>204</td>\n",
       "    </tr>\n",
       "  </tbody>\n",
       "</table>\n",
       "</div>"
      ],
      "text/plain": [
       "   idade  genero  tipo_dor_peito  pressao_sanguinea_repouso  acucar_jejum  \\\n",
       "0     63       1               1                        145             1   \n",
       "1     67       1               4                        160             0   \n",
       "2     67       1               4                        120             0   \n",
       "3     37       1               3                        130             0   \n",
       "4     41       0               2                        130             0   \n",
       "\n",
       "   resultado_eletrocardio  freq_cardio_max  angina_exercicio  \\\n",
       "0                       2              150                 0   \n",
       "1                       2              108                 1   \n",
       "2                       2              129                 1   \n",
       "3                       0              187                 0   \n",
       "4                       2              172                 0   \n",
       "\n",
       "   depressao_induzida_exercicio  inclinacao num_princ_vasos thal  \\\n",
       "0                           2.3           3               0    6   \n",
       "1                           1.5           2               3    3   \n",
       "2                           2.6           2               2    7   \n",
       "3                           3.5           3               0    3   \n",
       "4                           1.4           1               0    3   \n",
       "\n",
       "   diag_doenca_cardiaca  colesterol  \n",
       "0                     0         233  \n",
       "1                     2         286  \n",
       "2                     1         229  \n",
       "3                     0         250  \n",
       "4                     0         204  "
      ]
     },
     "execution_count": 5,
     "metadata": {},
     "output_type": "execute_result"
    }
   ],
   "source": [
    "colesterol = pd.read_csv('https://gist.githubusercontent.com/davidneves11/01b2963f7a8dfd87d79010fbf847b221/raw/685870f4365bcda4e5bb9e342285e0aac37dd556/colesterol.csv')\n",
    "colesterol.head()"
   ]
  },
  {
   "cell_type": "markdown",
   "id": "754069aa",
   "metadata": {},
   "source": [
    "### Separando de Treino e Teste\n",
    "- O X é todos os valores que vão influenciar e o *Y tudo o que queremos prever* \n",
    "- Primerio coloca o x de treino e teste e deois y de treino e teste\n",
    "- A *acurácia* é uma espécie de soma entre exatidão e precisão. Ou seja, nela, os resultados obtidos por uma experiência não apenas devem ser precisos, mas também precisam estar perto do valor de referência ou real usado como base."
   ]
  },
  {
   "cell_type": "code",
   "execution_count": 10,
   "id": "cd1b7797",
   "metadata": {},
   "outputs": [],
   "source": [
    "x = diabetes['idade']\n",
    "y = diabetes['resultado']"
   ]
  },
  {
   "cell_type": "code",
   "execution_count": 11,
   "id": "3729c94a",
   "metadata": {},
   "outputs": [],
   "source": [
    "from sklearn.model_selection import train_test_split"
   ]
  },
  {
   "cell_type": "code",
   "execution_count": 12,
   "id": "eb011978",
   "metadata": {},
   "outputs": [],
   "source": [
    "x_treino, x_teste, y_treino, y_teste = train_test_split(x, y)"
   ]
  },
  {
   "cell_type": "markdown",
   "id": "07a06590",
   "metadata": {},
   "source": [
    "### Classificação\n"
   ]
  },
  {
   "cell_type": "code",
   "execution_count": 14,
   "id": "89c306ca",
   "metadata": {},
   "outputs": [
    {
     "data": {
      "text/html": [
       "<div>\n",
       "<style scoped>\n",
       "    .dataframe tbody tr th:only-of-type {\n",
       "        vertical-align: middle;\n",
       "    }\n",
       "\n",
       "    .dataframe tbody tr th {\n",
       "        vertical-align: top;\n",
       "    }\n",
       "\n",
       "    .dataframe thead th {\n",
       "        text-align: right;\n",
       "    }\n",
       "</style>\n",
       "<table border=\"1\" class=\"dataframe\">\n",
       "  <thead>\n",
       "    <tr style=\"text-align: right;\">\n",
       "      <th></th>\n",
       "      <th>quantidade_gravidez</th>\n",
       "      <th>concentracao_glicose</th>\n",
       "      <th>pressao</th>\n",
       "      <th>espessura_triceps</th>\n",
       "      <th>insulina</th>\n",
       "      <th>imc</th>\n",
       "      <th>diabetes_pedigree</th>\n",
       "      <th>idade</th>\n",
       "    </tr>\n",
       "  </thead>\n",
       "  <tbody>\n",
       "    <tr>\n",
       "      <th>0</th>\n",
       "      <td>6</td>\n",
       "      <td>148</td>\n",
       "      <td>72</td>\n",
       "      <td>35</td>\n",
       "      <td>0</td>\n",
       "      <td>33.6</td>\n",
       "      <td>0.627</td>\n",
       "      <td>50</td>\n",
       "    </tr>\n",
       "    <tr>\n",
       "      <th>1</th>\n",
       "      <td>1</td>\n",
       "      <td>85</td>\n",
       "      <td>66</td>\n",
       "      <td>29</td>\n",
       "      <td>0</td>\n",
       "      <td>26.6</td>\n",
       "      <td>0.351</td>\n",
       "      <td>31</td>\n",
       "    </tr>\n",
       "    <tr>\n",
       "      <th>2</th>\n",
       "      <td>8</td>\n",
       "      <td>183</td>\n",
       "      <td>64</td>\n",
       "      <td>0</td>\n",
       "      <td>0</td>\n",
       "      <td>23.3</td>\n",
       "      <td>0.672</td>\n",
       "      <td>32</td>\n",
       "    </tr>\n",
       "    <tr>\n",
       "      <th>3</th>\n",
       "      <td>1</td>\n",
       "      <td>89</td>\n",
       "      <td>66</td>\n",
       "      <td>23</td>\n",
       "      <td>94</td>\n",
       "      <td>28.1</td>\n",
       "      <td>0.167</td>\n",
       "      <td>21</td>\n",
       "    </tr>\n",
       "    <tr>\n",
       "      <th>4</th>\n",
       "      <td>0</td>\n",
       "      <td>137</td>\n",
       "      <td>40</td>\n",
       "      <td>35</td>\n",
       "      <td>168</td>\n",
       "      <td>43.1</td>\n",
       "      <td>2.288</td>\n",
       "      <td>33</td>\n",
       "    </tr>\n",
       "    <tr>\n",
       "      <th>...</th>\n",
       "      <td>...</td>\n",
       "      <td>...</td>\n",
       "      <td>...</td>\n",
       "      <td>...</td>\n",
       "      <td>...</td>\n",
       "      <td>...</td>\n",
       "      <td>...</td>\n",
       "      <td>...</td>\n",
       "    </tr>\n",
       "    <tr>\n",
       "      <th>763</th>\n",
       "      <td>10</td>\n",
       "      <td>101</td>\n",
       "      <td>76</td>\n",
       "      <td>48</td>\n",
       "      <td>180</td>\n",
       "      <td>32.9</td>\n",
       "      <td>0.171</td>\n",
       "      <td>63</td>\n",
       "    </tr>\n",
       "    <tr>\n",
       "      <th>764</th>\n",
       "      <td>2</td>\n",
       "      <td>122</td>\n",
       "      <td>70</td>\n",
       "      <td>27</td>\n",
       "      <td>0</td>\n",
       "      <td>36.8</td>\n",
       "      <td>0.340</td>\n",
       "      <td>27</td>\n",
       "    </tr>\n",
       "    <tr>\n",
       "      <th>765</th>\n",
       "      <td>5</td>\n",
       "      <td>121</td>\n",
       "      <td>72</td>\n",
       "      <td>23</td>\n",
       "      <td>112</td>\n",
       "      <td>26.2</td>\n",
       "      <td>0.245</td>\n",
       "      <td>30</td>\n",
       "    </tr>\n",
       "    <tr>\n",
       "      <th>766</th>\n",
       "      <td>1</td>\n",
       "      <td>126</td>\n",
       "      <td>60</td>\n",
       "      <td>0</td>\n",
       "      <td>0</td>\n",
       "      <td>30.1</td>\n",
       "      <td>0.349</td>\n",
       "      <td>47</td>\n",
       "    </tr>\n",
       "    <tr>\n",
       "      <th>767</th>\n",
       "      <td>1</td>\n",
       "      <td>93</td>\n",
       "      <td>70</td>\n",
       "      <td>31</td>\n",
       "      <td>0</td>\n",
       "      <td>30.4</td>\n",
       "      <td>0.315</td>\n",
       "      <td>23</td>\n",
       "    </tr>\n",
       "  </tbody>\n",
       "</table>\n",
       "<p>768 rows × 8 columns</p>\n",
       "</div>"
      ],
      "text/plain": [
       "     quantidade_gravidez  concentracao_glicose  pressao  espessura_triceps  \\\n",
       "0                      6                   148       72                 35   \n",
       "1                      1                    85       66                 29   \n",
       "2                      8                   183       64                  0   \n",
       "3                      1                    89       66                 23   \n",
       "4                      0                   137       40                 35   \n",
       "..                   ...                   ...      ...                ...   \n",
       "763                   10                   101       76                 48   \n",
       "764                    2                   122       70                 27   \n",
       "765                    5                   121       72                 23   \n",
       "766                    1                   126       60                  0   \n",
       "767                    1                    93       70                 31   \n",
       "\n",
       "     insulina   imc  diabetes_pedigree  idade  \n",
       "0           0  33.6              0.627     50  \n",
       "1           0  26.6              0.351     31  \n",
       "2           0  23.3              0.672     32  \n",
       "3          94  28.1              0.167     21  \n",
       "4         168  43.1              2.288     33  \n",
       "..        ...   ...                ...    ...  \n",
       "763       180  32.9              0.171     63  \n",
       "764         0  36.8              0.340     27  \n",
       "765       112  26.2              0.245     30  \n",
       "766         0  30.1              0.349     47  \n",
       "767         0  30.4              0.315     23  \n",
       "\n",
       "[768 rows x 8 columns]"
      ]
     },
     "execution_count": 14,
     "metadata": {},
     "output_type": "execute_result"
    }
   ],
   "source": [
    "x = diabetes.drop('resultado',axis=1)\n",
    "x\n",
    "# pedir para ele esquecer só a coluna do resultado, que é a última. E para ele achar essa coluna, vou passar um axis=1"
   ]
  },
  {
   "cell_type": "code",
   "execution_count": 15,
   "id": "283e4039",
   "metadata": {},
   "outputs": [
    {
     "data": {
      "text/plain": [
       "0      testado_positivo\n",
       "1      testado_negativo\n",
       "2      testado_positivo\n",
       "3      testado_negativo\n",
       "4      testado_positivo\n",
       "             ...       \n",
       "763    testado_negativo\n",
       "764    testado_negativo\n",
       "765    testado_negativo\n",
       "766    testado_positivo\n",
       "767    testado_negativo\n",
       "Name: resultado, Length: 768, dtype: object"
      ]
     },
     "execution_count": 15,
     "metadata": {},
     "output_type": "execute_result"
    }
   ],
   "source": [
    "y = diabetes['resultado']\n",
    "y\n",
    "# passando apenasa coluna de resultado"
   ]
  },
  {
   "cell_type": "markdown",
   "id": "61195a5d",
   "metadata": {},
   "source": [
    "### Separando dados de treino e teste"
   ]
  },
  {
   "cell_type": "code",
   "execution_count": 17,
   "id": "b7ec243f",
   "metadata": {},
   "outputs": [],
   "source": [
    "from sklearn.model_selection import train_test_split\n",
    "\n",
    "SEED = 4121988 \n",
    "\n",
    "x_treino, x_teste, y_treino, y_teste = train_test_split(x, y)"
   ]
  },
  {
   "cell_type": "markdown",
   "id": "f3c9aae1",
   "metadata": {},
   "source": [
    "### Importanto o algoritmo de árvore de decisão\n",
    "- Se observarmos *random_state* conseguimos controlar a aleatoriedade do nosso modelo. Conseguimos a partir desse momento controlar o resultado que vai acontecer a partir de agora.\n",
    "-  *max_depth* é o número máximo, a profundidade máxima do crescimento dessa árvore"
   ]
  },
  {
   "cell_type": "code",
   "execution_count": 18,
   "id": "f210b43c",
   "metadata": {},
   "outputs": [],
   "source": [
    "from sklearn.tree import DecisionTreeClassifier\n",
    "\n",
    "clf_arvore = DecisionTreeClassifier(random_state=SEED, max_depth=3)"
   ]
  },
  {
   "cell_type": "markdown",
   "id": "87f99930",
   "metadata": {},
   "source": [
    "### Treinando o modelo"
   ]
  },
  {
   "cell_type": "code",
   "execution_count": 19,
   "id": "f8d00b84",
   "metadata": {},
   "outputs": [
    {
     "data": {
      "text/plain": [
       "DecisionTreeClassifier(max_depth=3, random_state=4121988)"
      ]
     },
     "execution_count": 19,
     "metadata": {},
     "output_type": "execute_result"
    }
   ],
   "source": [
    "clf_arvore.fit(x_treino, y_treino) #treino"
   ]
  },
  {
   "cell_type": "markdown",
   "id": "db69d564",
   "metadata": {},
   "source": [
    "### Verificando a acurácia do modelo"
   ]
  },
  {
   "cell_type": "code",
   "execution_count": 20,
   "id": "6cf3e64c",
   "metadata": {},
   "outputs": [
    {
     "data": {
      "text/plain": [
       "0.7239583333333334"
      ]
     },
     "execution_count": 20,
     "metadata": {},
     "output_type": "execute_result"
    }
   ],
   "source": [
    "clf_arvore.score(x_teste, y_teste) #teste mais a acurácia"
   ]
  },
  {
   "cell_type": "markdown",
   "id": "0be31d2e",
   "metadata": {},
   "source": [
    "### Importando o classificador dummy"
   ]
  },
  {
   "cell_type": "code",
   "execution_count": 21,
   "id": "82754723",
   "metadata": {},
   "outputs": [],
   "source": [
    "from sklearn.dummy import DummyClassifier"
   ]
  },
  {
   "cell_type": "markdown",
   "id": "92db5aba",
   "metadata": {},
   "source": [
    "### Treinando o modelo e comparando as acurácias"
   ]
  },
  {
   "cell_type": "code",
   "execution_count": 22,
   "id": "b62fee90",
   "metadata": {},
   "outputs": [
    {
     "data": {
      "text/plain": [
       "DummyClassifier(strategy='most_frequent')"
      ]
     },
     "execution_count": 22,
     "metadata": {},
     "output_type": "execute_result"
    }
   ],
   "source": [
    "clf_dummy = DummyClassifier(strategy='most_frequent')\n",
    "clf_dummy.fit(x_treino, y_treino)"
   ]
  },
  {
   "cell_type": "code",
   "execution_count": 23,
   "id": "90371c00",
   "metadata": {},
   "outputs": [
    {
     "data": {
      "text/plain": [
       "0.640625"
      ]
     },
     "execution_count": 23,
     "metadata": {},
     "output_type": "execute_result"
    }
   ],
   "source": [
    "clf_dummy.score(x_teste, y_teste)"
   ]
  },
  {
   "cell_type": "markdown",
   "id": "a0b1a48c",
   "metadata": {},
   "source": [
    "### Plotando a árvore de decisão"
   ]
  },
  {
   "cell_type": "code",
   "execution_count": 24,
   "id": "93b4f841",
   "metadata": {},
   "outputs": [
    {
     "name": "stderr",
     "output_type": "stream",
     "text": [
      "C:\\Users\\debor\\anaconda3\\lib\\site-packages\\sklearn\\tree\\_export.py:184: FutureWarning: 'rotate' has no effect and is deprecated in 0.23. It will be removed in 1.0 (renaming of 0.25).\n",
      "  warnings.warn((\"'rotate' has no effect and is deprecated in 0.23. \"\n"
     ]
    },
    {
     "data": {
      "text/plain": [
       "<function matplotlib.pyplot.show(close=None, block=None)>"
      ]
     },
     "execution_count": 24,
     "metadata": {},
     "output_type": "execute_result"
    },
    {
     "data": {
      "image/png": "[encoded data removed]",
      "text/plain": [
       "<Figure size 1080x720 with 1 Axes>"
      ]
     },
     "metadata": {
      "needs_background": "light"
     },
     "output_type": "display_data"
    }
   ],
   "source": [
    "from sklearn import tree\n",
    "import matplotlib.pyplot as plt\n",
    "\n",
    "fig, ax = plt.subplots(figsize=(15,10))\n",
    "tree.plot_tree(clf_arvore,\n",
    "               ax=ax,\n",
    "               fontsize=10,\n",
    "               rounded=True,\n",
    "               filled=True,\n",
    "               feature_names=x_treino.columns,\n",
    "               class_names=['Não Ativado', 'Ativado'], rotate=True)\n",
    "plt.show"
   ]
  },
  {
   "cell_type": "markdown",
   "id": "8f1052ff",
   "metadata": {},
   "source": [
    "### Regressão"
   ]
  },
  {
   "cell_type": "markdown",
   "id": "40d77331",
   "metadata": {},
   "source": [
    "### Importando a base de dados"
   ]
  },
  {
   "cell_type": "code",
   "execution_count": 25,
   "id": "e409cf9f",
   "metadata": {},
   "outputs": [
    {
     "data": {
      "text/html": [
       "<div>\n",
       "<style scoped>\n",
       "    .dataframe tbody tr th:only-of-type {\n",
       "        vertical-align: middle;\n",
       "    }\n",
       "\n",
       "    .dataframe tbody tr th {\n",
       "        vertical-align: top;\n",
       "    }\n",
       "\n",
       "    .dataframe thead th {\n",
       "        text-align: right;\n",
       "    }\n",
       "</style>\n",
       "<table border=\"1\" class=\"dataframe\">\n",
       "  <thead>\n",
       "    <tr style=\"text-align: right;\">\n",
       "      <th></th>\n",
       "      <th>Idade</th>\n",
       "      <th>Peso</th>\n",
       "      <th>Horas de atividade</th>\n",
       "      <th>Batimentos cardiacos</th>\n",
       "    </tr>\n",
       "  </thead>\n",
       "  <tbody>\n",
       "    <tr>\n",
       "      <th>0</th>\n",
       "      <td>44.247295</td>\n",
       "      <td>53.591343</td>\n",
       "      <td>3.397836</td>\n",
       "      <td>82.307425</td>\n",
       "    </tr>\n",
       "    <tr>\n",
       "      <th>1</th>\n",
       "      <td>81.427930</td>\n",
       "      <td>172.569375</td>\n",
       "      <td>33.142344</td>\n",
       "      <td>179.045377</td>\n",
       "    </tr>\n",
       "    <tr>\n",
       "      <th>2</th>\n",
       "      <td>50.807130</td>\n",
       "      <td>74.582817</td>\n",
       "      <td>8.645704</td>\n",
       "      <td>103.522796</td>\n",
       "    </tr>\n",
       "    <tr>\n",
       "      <th>3</th>\n",
       "      <td>55.778712</td>\n",
       "      <td>90.491878</td>\n",
       "      <td>12.622969</td>\n",
       "      <td>114.239779</td>\n",
       "    </tr>\n",
       "    <tr>\n",
       "      <th>4</th>\n",
       "      <td>53.790400</td>\n",
       "      <td>84.129280</td>\n",
       "      <td>11.032320</td>\n",
       "      <td>107.184063</td>\n",
       "    </tr>\n",
       "  </tbody>\n",
       "</table>\n",
       "</div>"
      ],
      "text/plain": [
       "       Idade        Peso  Horas de atividade  Batimentos cardiacos\n",
       "0  44.247295   53.591343            3.397836             82.307425\n",
       "1  81.427930  172.569375           33.142344            179.045377\n",
       "2  50.807130   74.582817            8.645704            103.522796\n",
       "3  55.778712   90.491878           12.622969            114.239779\n",
       "4  53.790400   84.129280           11.032320            107.184063"
      ]
     },
     "execution_count": 25,
     "metadata": {},
     "output_type": "execute_result"
    }
   ],
   "source": [
    "import pandas as pd \n",
    "\n",
    "batimentos = pd.read_csv('https://gist.githubusercontent.com/davidneves11/d72e7f49ab01c856acc5d07be4b1a9dd/raw/37631e3a40da92e6261c00fffdf0fb9b869b35dd/batimentos%2520cardiacos.csv')\n",
    "batimentos.head()"
   ]
  },
  {
   "cell_type": "markdown",
   "id": "f72ec03c",
   "metadata": {},
   "source": [
    "PLotando Gráfico"
   ]
  },
  {
   "cell_type": "code",
   "execution_count": 26,
   "id": "70d348e1",
   "metadata": {},
   "outputs": [
    {
     "data": {
      "text/plain": [
       "<Figure size 7200x3600 with 0 Axes>"
      ]
     },
     "metadata": {},
     "output_type": "display_data"
    },
    {
     "data": {
      "image/png": "[encoded data removed]",
      "text/plain": [
       "<Figure size 360x360 with 1 Axes>"
      ]
     },
     "metadata": {},
     "output_type": "display_data"
    }
   ],
   "source": [
    "import matplotlib.pyplot as plt\n",
    "import seaborn as sns\n",
    "\n",
    "sns.set()\n",
    "plt.figure(figsize=(100, 50))\n",
    "\n",
    "sns.lmplot(x='Peso', y='Batimentos cardiacos', data=batimentos,line_kws={'color':'red'})\n",
    "plt.show()"
   ]
  },
  {
   "cell_type": "markdown",
   "id": "e95829aa",
   "metadata": {},
   "source": [
    "### Separando os dados para a previsão"
   ]
  },
  {
   "cell_type": "code",
   "execution_count": 28,
   "id": "449065a0",
   "metadata": {},
   "outputs": [],
   "source": [
    "x = batimentos[['Peso','Idade']]\n",
    "y = batimentos['Batimentos cardiacos']"
   ]
  },
  {
   "cell_type": "markdown",
   "id": "c4fd3c13",
   "metadata": {},
   "source": [
    "### Separando os dados para teste e treino"
   ]
  },
  {
   "cell_type": "code",
   "execution_count": 29,
   "id": "ba6d7b98",
   "metadata": {},
   "outputs": [],
   "source": [
    "from sklearn.model_selection import train_test_split\n",
    "\n",
    "SEED=4500\n",
    "\n",
    "x_treino, x_teste, y_treino, y_teste = train_test_split(x, y, random_state = SEED)"
   ]
  },
  {
   "cell_type": "markdown",
   "id": "4aec0664",
   "metadata": {},
   "source": [
    "### Importando o algoritmo de regressão linear"
   ]
  },
  {
   "cell_type": "code",
   "execution_count": 30,
   "id": "53aca611",
   "metadata": {},
   "outputs": [],
   "source": [
    "from sklearn import linear_model \n",
    "\n",
    "rgs = linear_model.LinearRegression(fit_intercept=False, normalize=True)"
   ]
  },
  {
   "cell_type": "markdown",
   "id": "5450bee9",
   "metadata": {},
   "source": [
    "### Treinando o modelo"
   ]
  },
  {
   "cell_type": "code",
   "execution_count": 32,
   "id": "58c4c49e",
   "metadata": {},
   "outputs": [
    {
     "data": {
      "text/plain": [
       "LinearRegression(fit_intercept=False, normalize=True)"
      ]
     },
     "execution_count": 32,
     "metadata": {},
     "output_type": "execute_result"
    }
   ],
   "source": [
    "rgs.fit(x_treino, y_treino)"
   ]
  },
  {
   "cell_type": "markdown",
   "id": "5719c502",
   "metadata": {},
   "source": [
    "### Verificando a acurácia"
   ]
  },
  {
   "cell_type": "code",
   "execution_count": 33,
   "id": "274cd4e4",
   "metadata": {},
   "outputs": [
    {
     "data": {
      "text/plain": [
       "0.9872272899997122"
      ]
     },
     "execution_count": 33,
     "metadata": {},
     "output_type": "execute_result"
    }
   ],
   "source": [
    "rgs.score(x_teste, y_teste)"
   ]
  },
  {
   "cell_type": "markdown",
   "id": "f9a53a45",
   "metadata": {},
   "source": [
    "## Clustering \n",
    "- São agrupamentos"
   ]
  },
  {
   "cell_type": "code",
   "execution_count": 34,
   "id": "63ea69ad",
   "metadata": {},
   "outputs": [
    {
     "data": {
      "text/html": [
       "<div>\n",
       "<style scoped>\n",
       "    .dataframe tbody tr th:only-of-type {\n",
       "        vertical-align: middle;\n",
       "    }\n",
       "\n",
       "    .dataframe tbody tr th {\n",
       "        vertical-align: top;\n",
       "    }\n",
       "\n",
       "    .dataframe thead th {\n",
       "        text-align: right;\n",
       "    }\n",
       "</style>\n",
       "<table border=\"1\" class=\"dataframe\">\n",
       "  <thead>\n",
       "    <tr style=\"text-align: right;\">\n",
       "      <th></th>\n",
       "      <th>idade</th>\n",
       "      <th>genero</th>\n",
       "      <th>tipo_dor_peito</th>\n",
       "      <th>pressao_sanguinea_repouso</th>\n",
       "      <th>acucar_jejum</th>\n",
       "      <th>resultado_eletrocardio</th>\n",
       "      <th>freq_cardio_max</th>\n",
       "      <th>angina_exercicio</th>\n",
       "      <th>depressao_induzida_exercicio</th>\n",
       "      <th>inclinacao</th>\n",
       "      <th>num_princ_vasos</th>\n",
       "      <th>thal</th>\n",
       "      <th>diag_doenca_cardiaca</th>\n",
       "      <th>colesterol</th>\n",
       "    </tr>\n",
       "  </thead>\n",
       "  <tbody>\n",
       "    <tr>\n",
       "      <th>0</th>\n",
       "      <td>63</td>\n",
       "      <td>1</td>\n",
       "      <td>1</td>\n",
       "      <td>145</td>\n",
       "      <td>1</td>\n",
       "      <td>2</td>\n",
       "      <td>150</td>\n",
       "      <td>0</td>\n",
       "      <td>2.3</td>\n",
       "      <td>3</td>\n",
       "      <td>0</td>\n",
       "      <td>6</td>\n",
       "      <td>0</td>\n",
       "      <td>233</td>\n",
       "    </tr>\n",
       "    <tr>\n",
       "      <th>1</th>\n",
       "      <td>67</td>\n",
       "      <td>1</td>\n",
       "      <td>4</td>\n",
       "      <td>160</td>\n",
       "      <td>0</td>\n",
       "      <td>2</td>\n",
       "      <td>108</td>\n",
       "      <td>1</td>\n",
       "      <td>1.5</td>\n",
       "      <td>2</td>\n",
       "      <td>3</td>\n",
       "      <td>3</td>\n",
       "      <td>2</td>\n",
       "      <td>286</td>\n",
       "    </tr>\n",
       "    <tr>\n",
       "      <th>2</th>\n",
       "      <td>67</td>\n",
       "      <td>1</td>\n",
       "      <td>4</td>\n",
       "      <td>120</td>\n",
       "      <td>0</td>\n",
       "      <td>2</td>\n",
       "      <td>129</td>\n",
       "      <td>1</td>\n",
       "      <td>2.6</td>\n",
       "      <td>2</td>\n",
       "      <td>2</td>\n",
       "      <td>7</td>\n",
       "      <td>1</td>\n",
       "      <td>229</td>\n",
       "    </tr>\n",
       "    <tr>\n",
       "      <th>3</th>\n",
       "      <td>37</td>\n",
       "      <td>1</td>\n",
       "      <td>3</td>\n",
       "      <td>130</td>\n",
       "      <td>0</td>\n",
       "      <td>0</td>\n",
       "      <td>187</td>\n",
       "      <td>0</td>\n",
       "      <td>3.5</td>\n",
       "      <td>3</td>\n",
       "      <td>0</td>\n",
       "      <td>3</td>\n",
       "      <td>0</td>\n",
       "      <td>250</td>\n",
       "    </tr>\n",
       "    <tr>\n",
       "      <th>4</th>\n",
       "      <td>41</td>\n",
       "      <td>0</td>\n",
       "      <td>2</td>\n",
       "      <td>130</td>\n",
       "      <td>0</td>\n",
       "      <td>2</td>\n",
       "      <td>172</td>\n",
       "      <td>0</td>\n",
       "      <td>1.4</td>\n",
       "      <td>1</td>\n",
       "      <td>0</td>\n",
       "      <td>3</td>\n",
       "      <td>0</td>\n",
       "      <td>204</td>\n",
       "    </tr>\n",
       "  </tbody>\n",
       "</table>\n",
       "</div>"
      ],
      "text/plain": [
       "   idade  genero  tipo_dor_peito  pressao_sanguinea_repouso  acucar_jejum  \\\n",
       "0     63       1               1                        145             1   \n",
       "1     67       1               4                        160             0   \n",
       "2     67       1               4                        120             0   \n",
       "3     37       1               3                        130             0   \n",
       "4     41       0               2                        130             0   \n",
       "\n",
       "   resultado_eletrocardio  freq_cardio_max  angina_exercicio  \\\n",
       "0                       2              150                 0   \n",
       "1                       2              108                 1   \n",
       "2                       2              129                 1   \n",
       "3                       0              187                 0   \n",
       "4                       2              172                 0   \n",
       "\n",
       "   depressao_induzida_exercicio  inclinacao num_princ_vasos thal  \\\n",
       "0                           2.3           3               0    6   \n",
       "1                           1.5           2               3    3   \n",
       "2                           2.6           2               2    7   \n",
       "3                           3.5           3               0    3   \n",
       "4                           1.4           1               0    3   \n",
       "\n",
       "   diag_doenca_cardiaca  colesterol  \n",
       "0                     0         233  \n",
       "1                     2         286  \n",
       "2                     1         229  \n",
       "3                     0         250  \n",
       "4                     0         204  "
      ]
     },
     "execution_count": 34,
     "metadata": {},
     "output_type": "execute_result"
    }
   ],
   "source": [
    "import pandas as pd\n",
    "\n",
    "colesterol = pd.read_csv('https://gist.githubusercontent.com/davidneves11/01b2963f7a8dfd87d79010fbf847b221/raw/685870f4365bcda4e5bb9e342285e0aac37dd556/colesterol.csv')\n",
    "colesterol.head()"
   ]
  },
  {
   "cell_type": "markdown",
   "id": "0689a155",
   "metadata": {},
   "source": [
    "### Plotando o gráfico"
   ]
  },
  {
   "cell_type": "code",
   "execution_count": 35,
   "id": "efb8e74f",
   "metadata": {},
   "outputs": [
    {
     "data": {
      "text/plain": [
       "<AxesSubplot:xlabel='pressao_sanguinea_repouso', ylabel='colesterol'>"
      ]
     },
     "execution_count": 35,
     "metadata": {},
     "output_type": "execute_result"
    },
    {
     "data": {
      "image/png": "[encoded data removed]",
      "text/plain": [
       "<Figure size 432x288 with 1 Axes>"
      ]
     },
     "metadata": {},
     "output_type": "display_data"
    }
   ],
   "source": [
    "import seaborn as sns\n",
    "\n",
    "sns.scatterplot(x = 'pressao_sanguinea_repouso', y = 'colesterol', data = colesterol)"
   ]
  },
  {
   "cell_type": "markdown",
   "id": "2459223b",
   "metadata": {},
   "source": [
    "### Importando o algoritmo KMeans"
   ]
  },
  {
   "cell_type": "code",
   "execution_count": 36,
   "id": "d57f1cd0",
   "metadata": {},
   "outputs": [],
   "source": [
    "from sklearn.cluster import KMeans\n",
    "\n",
    "kmeans = KMeans(n_clusters = 2, random_state = 9)"
   ]
  },
  {
   "cell_type": "markdown",
   "id": "a86758d4",
   "metadata": {},
   "source": [
    "### Definindo a label"
   ]
  },
  {
   "cell_type": "code",
   "execution_count": 46,
   "id": "6de06649",
   "metadata": {},
   "outputs": [],
   "source": [
    "x = colesterol.select_dtypes('int64') #selecionando colunas que tem int 64"
   ]
  },
  {
   "cell_type": "markdown",
   "id": "9e27e98b",
   "metadata": {},
   "source": [
    "### Treinando a label"
   ]
  },
  {
   "cell_type": "code",
   "execution_count": 40,
   "id": "67b02d26",
   "metadata": {},
   "outputs": [
    {
     "data": {
      "text/plain": [
       "KMeans(n_clusters=2, random_state=9)"
      ]
     },
     "execution_count": 40,
     "metadata": {},
     "output_type": "execute_result"
    }
   ],
   "source": [
    "kmeans.fit(x)"
   ]
  },
  {
   "cell_type": "markdown",
   "id": "9abc4dd9",
   "metadata": {},
   "source": [
    "### Exibindo a label"
   ]
  },
  {
   "cell_type": "code",
   "execution_count": 41,
   "id": "bef71cfc",
   "metadata": {},
   "outputs": [
    {
     "data": {
      "text/plain": [
       "array([1, 0, 1, 1, 1, 1, 0, 0, 1, 1, 1, 0, 1, 0, 1, 1, 1, 1, 0, 0, 1, 0,\n",
       "       0, 1, 1, 1, 0, 1, 1, 1, 1, 1, 0, 1, 1, 1, 1, 0, 0, 1, 1, 1, 0, 1,\n",
       "       0, 1, 1, 1, 0, 1, 1, 1, 0, 1, 1, 0, 1, 1, 0, 1, 0, 1, 1, 0, 1, 0,\n",
       "       1, 1, 0, 1, 0, 1, 0, 1, 1, 0, 0, 0, 1, 0, 1, 0, 0, 0, 0, 1, 1, 1,\n",
       "       1, 1, 0, 1, 1, 1, 1, 1, 1, 0, 1, 1, 1, 1, 0, 0, 1, 0, 1, 1, 0, 1,\n",
       "       0, 1, 1, 0, 0, 1, 1, 1, 0, 1, 1, 0, 1, 1, 0, 1, 0, 1, 1, 1, 1, 1,\n",
       "       1, 0, 1, 1, 1, 0, 1, 1, 1, 0, 1, 0, 1, 1, 0, 1, 0, 0, 0, 0, 0, 0,\n",
       "       1, 0, 0, 0, 0, 0, 1, 0, 1, 1, 1, 1, 1, 0, 0, 1, 0, 1, 1, 0, 1, 0,\n",
       "       1, 1, 0, 1, 0, 0, 1, 0, 0, 1, 1, 1, 0, 1, 1, 0, 1, 0, 1, 0, 1, 1,\n",
       "       1, 0, 1, 0, 1, 0, 1, 0, 0, 1, 0, 1, 1, 1, 1, 1, 1, 1, 1, 1, 0, 0,\n",
       "       0, 0, 1, 0, 0, 1, 1, 0, 1, 1, 1, 0, 1, 0, 1, 0, 0, 1, 0, 0, 1, 0,\n",
       "       0, 1, 1, 1, 1, 0, 1, 1, 1, 1, 0, 0, 0, 1, 1, 1, 1, 0, 1, 0, 1, 1,\n",
       "       1, 0, 1, 1, 1, 1, 1, 1, 0, 1, 1, 1, 0, 1, 1, 1, 0, 1, 1, 1, 1, 0,\n",
       "       1, 1, 1, 1, 1, 0, 1, 1, 1, 1, 1, 1, 0, 1, 1, 1, 1])"
      ]
     },
     "execution_count": 41,
     "metadata": {},
     "output_type": "execute_result"
    }
   ],
   "source": [
    "kmeans.labels_"
   ]
  },
  {
   "cell_type": "markdown",
   "id": "b3ddf74e",
   "metadata": {},
   "source": [
    "### Plotando o gráfico"
   ]
  },
  {
   "cell_type": "code",
   "execution_count": 42,
   "id": "254f0c5b",
   "metadata": {},
   "outputs": [
    {
     "data": {
      "text/plain": [
       "<AxesSubplot:xlabel='pressao_sanguinea_repouso', ylabel='colesterol'>"
      ]
     },
     "execution_count": 42,
     "metadata": {},
     "output_type": "execute_result"
    },
    {
     "data": {
      "image/png": "[encoded data removed]",
      "text/plain": [
       "<Figure size 432x288 with 1 Axes>"
      ]
     },
     "metadata": {},
     "output_type": "display_data"
    }
   ],
   "source": [
    "sns.scatterplot(x='pressao_sanguinea_repouso', y='colesterol', data= colesterol, hue = kmeans.labels_)"
   ]
  },
  {
   "cell_type": "markdown",
   "id": "7af756d1",
   "metadata": {},
   "source": [
    "### Adicionando a coluna clusters"
   ]
  },
  {
   "cell_type": "code",
   "execution_count": 43,
   "id": "a99f667a",
   "metadata": {},
   "outputs": [
    {
     "data": {
      "text/html": [
       "<div>\n",
       "<style scoped>\n",
       "    .dataframe tbody tr th:only-of-type {\n",
       "        vertical-align: middle;\n",
       "    }\n",
       "\n",
       "    .dataframe tbody tr th {\n",
       "        vertical-align: top;\n",
       "    }\n",
       "\n",
       "    .dataframe thead th {\n",
       "        text-align: right;\n",
       "    }\n",
       "</style>\n",
       "<table border=\"1\" class=\"dataframe\">\n",
       "  <thead>\n",
       "    <tr style=\"text-align: right;\">\n",
       "      <th></th>\n",
       "      <th>idade</th>\n",
       "      <th>genero</th>\n",
       "      <th>tipo_dor_peito</th>\n",
       "      <th>pressao_sanguinea_repouso</th>\n",
       "      <th>acucar_jejum</th>\n",
       "      <th>resultado_eletrocardio</th>\n",
       "      <th>freq_cardio_max</th>\n",
       "      <th>angina_exercicio</th>\n",
       "      <th>depressao_induzida_exercicio</th>\n",
       "      <th>inclinacao</th>\n",
       "      <th>num_princ_vasos</th>\n",
       "      <th>thal</th>\n",
       "      <th>diag_doenca_cardiaca</th>\n",
       "      <th>colesterol</th>\n",
       "      <th>clusters</th>\n",
       "    </tr>\n",
       "  </thead>\n",
       "  <tbody>\n",
       "    <tr>\n",
       "      <th>0</th>\n",
       "      <td>63</td>\n",
       "      <td>1</td>\n",
       "      <td>1</td>\n",
       "      <td>145</td>\n",
       "      <td>1</td>\n",
       "      <td>2</td>\n",
       "      <td>150</td>\n",
       "      <td>0</td>\n",
       "      <td>2.3</td>\n",
       "      <td>3</td>\n",
       "      <td>0</td>\n",
       "      <td>6</td>\n",
       "      <td>0</td>\n",
       "      <td>233</td>\n",
       "      <td>1</td>\n",
       "    </tr>\n",
       "    <tr>\n",
       "      <th>1</th>\n",
       "      <td>67</td>\n",
       "      <td>1</td>\n",
       "      <td>4</td>\n",
       "      <td>160</td>\n",
       "      <td>0</td>\n",
       "      <td>2</td>\n",
       "      <td>108</td>\n",
       "      <td>1</td>\n",
       "      <td>1.5</td>\n",
       "      <td>2</td>\n",
       "      <td>3</td>\n",
       "      <td>3</td>\n",
       "      <td>2</td>\n",
       "      <td>286</td>\n",
       "      <td>0</td>\n",
       "    </tr>\n",
       "    <tr>\n",
       "      <th>2</th>\n",
       "      <td>67</td>\n",
       "      <td>1</td>\n",
       "      <td>4</td>\n",
       "      <td>120</td>\n",
       "      <td>0</td>\n",
       "      <td>2</td>\n",
       "      <td>129</td>\n",
       "      <td>1</td>\n",
       "      <td>2.6</td>\n",
       "      <td>2</td>\n",
       "      <td>2</td>\n",
       "      <td>7</td>\n",
       "      <td>1</td>\n",
       "      <td>229</td>\n",
       "      <td>1</td>\n",
       "    </tr>\n",
       "    <tr>\n",
       "      <th>3</th>\n",
       "      <td>37</td>\n",
       "      <td>1</td>\n",
       "      <td>3</td>\n",
       "      <td>130</td>\n",
       "      <td>0</td>\n",
       "      <td>0</td>\n",
       "      <td>187</td>\n",
       "      <td>0</td>\n",
       "      <td>3.5</td>\n",
       "      <td>3</td>\n",
       "      <td>0</td>\n",
       "      <td>3</td>\n",
       "      <td>0</td>\n",
       "      <td>250</td>\n",
       "      <td>1</td>\n",
       "    </tr>\n",
       "    <tr>\n",
       "      <th>4</th>\n",
       "      <td>41</td>\n",
       "      <td>0</td>\n",
       "      <td>2</td>\n",
       "      <td>130</td>\n",
       "      <td>0</td>\n",
       "      <td>2</td>\n",
       "      <td>172</td>\n",
       "      <td>0</td>\n",
       "      <td>1.4</td>\n",
       "      <td>1</td>\n",
       "      <td>0</td>\n",
       "      <td>3</td>\n",
       "      <td>0</td>\n",
       "      <td>204</td>\n",
       "      <td>1</td>\n",
       "    </tr>\n",
       "  </tbody>\n",
       "</table>\n",
       "</div>"
      ],
      "text/plain": [
       "   idade  genero  tipo_dor_peito  pressao_sanguinea_repouso  acucar_jejum  \\\n",
       "0     63       1               1                        145             1   \n",
       "1     67       1               4                        160             0   \n",
       "2     67       1               4                        120             0   \n",
       "3     37       1               3                        130             0   \n",
       "4     41       0               2                        130             0   \n",
       "\n",
       "   resultado_eletrocardio  freq_cardio_max  angina_exercicio  \\\n",
       "0                       2              150                 0   \n",
       "1                       2              108                 1   \n",
       "2                       2              129                 1   \n",
       "3                       0              187                 0   \n",
       "4                       2              172                 0   \n",
       "\n",
       "   depressao_induzida_exercicio  inclinacao num_princ_vasos thal  \\\n",
       "0                           2.3           3               0    6   \n",
       "1                           1.5           2               3    3   \n",
       "2                           2.6           2               2    7   \n",
       "3                           3.5           3               0    3   \n",
       "4                           1.4           1               0    3   \n",
       "\n",
       "   diag_doenca_cardiaca  colesterol  clusters  \n",
       "0                     0         233         1  \n",
       "1                     2         286         0  \n",
       "2                     1         229         1  \n",
       "3                     0         250         1  \n",
       "4                     0         204         1  "
      ]
     },
     "execution_count": 43,
     "metadata": {},
     "output_type": "execute_result"
    }
   ],
   "source": [
    "colesterol['clusters'] = kmeans.labels_\n",
    "colesterol.head()"
   ]
  },
  {
   "cell_type": "markdown",
   "id": "0ce44774",
   "metadata": {},
   "source": [
    "### Agrupando a coluna clusters fazendo a média do colesterol"
   ]
  },
  {
   "cell_type": "code",
   "execution_count": 45,
   "id": "f01f88c0",
   "metadata": {},
   "outputs": [
    {
     "data": {
      "text/plain": [
       "clusters\n",
       "0    298.963964\n",
       "1    216.473958\n",
       "Name: colesterol, dtype: float64"
      ]
     },
     "execution_count": 45,
     "metadata": {},
     "output_type": "execute_result"
    }
   ],
   "source": [
    "colesterol.groupby('clusters')['colesterol'].mean()"
   ]
  },
  {
   "cell_type": "code",
   "execution_count": null,
   "id": "17026cfc",
   "metadata": {},
   "outputs": [],
   "source": []
  }
 ],
 "metadata": {
  "kernelspec": {
   "display_name": "Python 3 (ipykernel)",
   "language": "python",
   "name": "python3"
  },
  "language_info": {
   "codemirror_mode": {
    "name": "ipython",
    "version": 3
   },
   "file_extension": ".py",
   "mimetype": "text/x-python",
   "name": "python",
   "nbconvert_exporter": "python",
   "pygments_lexer": "ipython3",
   "version": "3.9.7"
  }
 },
 "nbformat": 4,
 "nbformat_minor": 5
}
